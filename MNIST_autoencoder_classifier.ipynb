{
  "nbformat": 4,
  "nbformat_minor": 0,
  "metadata": {
    "colab": {
      "name": "MNIST_autoencoder_classifier.ipynb_",
      "provenance": [],
      "collapsed_sections": []
    },
    "kernelspec": {
      "name": "python3",
      "display_name": "Python 3"
    },
    "language_info": {
      "name": "python"
    },
    "accelerator": "GPU"
  },
  "cells": [
    {
      "cell_type": "code",
      "metadata": {
        "id": "of0wOmbU9pup"
      },
      "source": [
        "import torch \n",
        "from torch.utils.data import Dataset, DataLoader \n",
        "import random\n",
        "import torch.autograd as autograd         \n",
        "from torch import Tensor                 \n",
        "import torch.nn as nn                     \n",
        "import torch.nn.functional as F           \n",
        "import torch.optim as optim               \n",
        "\n",
        "import torchvision\n",
        "from torchvision.utils import save_image\n",
        "import torchvision.transforms as transforms  \n",
        "import numpy as np  \n",
        "import matplotlib.pyplot as plt        "
      ],
      "execution_count": 1,
      "outputs": []
    },
    {
      "cell_type": "code",
      "metadata": {
        "id": "wJgMEE03ioVN"
      },
      "source": [
        "from Model import *\n",
        "from train import *\n",
        "from test import *\n",
        "from Utils import *"
      ],
      "execution_count": 19,
      "outputs": []
    },
    {
      "cell_type": "code",
      "metadata": {
        "colab": {
          "base_uri": "https://localhost:8080/"
        },
        "id": "JV_sYpgehP4l",
        "outputId": "67a21b4f-d4a8-43f0-9429-e6ca87941526"
      },
      "source": [
        "# Choose device for computation\n",
        "device = torch.device(\"cuda\") if torch.cuda.is_available() else torch.device(\"cpu\")\n",
        "print(f'Selected device: {device}')"
      ],
      "execution_count": 3,
      "outputs": [
        {
          "output_type": "stream",
          "name": "stdout",
          "text": [
            "Selected device: cuda\n"
          ]
        }
      ]
    },
    {
      "cell_type": "markdown",
      "metadata": {
        "id": "7K51kO0B0pD9"
      },
      "source": [
        "Load MNIST Dataset"
      ]
    },
    {
      "cell_type": "code",
      "metadata": {
        "id": "VBF8kPae9qnl"
      },
      "source": [
        "data_dir = 'dataset'\n",
        "train_dataset = torchvision.datasets.MNIST(data_dir, train=True, download=True)\n",
        "test_dataset  = torchvision.datasets.MNIST(data_dir, train=False, download=True)"
      ],
      "execution_count": 4,
      "outputs": []
    },
    {
      "cell_type": "code",
      "metadata": {
        "id": "8tM2iXYcMbcI"
      },
      "source": [
        "# Make transformations\n",
        "train_transform = transforms.Compose([\n",
        "    transforms.ToTensor(),\n",
        "])\n",
        "test_transform = transforms.Compose([\n",
        "    transforms.ToTensor(),\n",
        "])\n",
        "\n",
        "# Data in range [0,1]\n",
        "train_dataset.transform = train_transform \n",
        "test_dataset.transform = test_transform"
      ],
      "execution_count": 5,
      "outputs": []
    },
    {
      "cell_type": "code",
      "metadata": {
        "id": "vsl3BgjpOq-6"
      },
      "source": [
        "train_len = len(train_dataset) \n",
        "train_size = int(0.8 * train_len)\n",
        "val_size = int(0.2 * train_len)\n",
        "\n",
        "train_data, val_data = torch.utils.data.random_split(train_dataset, \n",
        "                                                     [train_size, val_size])\n",
        "\n",
        "batch_size = 128\n",
        "\n",
        "train_loader = torch.utils.data.DataLoader(train_data, batch_size=batch_size, shuffle=True)\n",
        "valid_loader = torch.utils.data.DataLoader(val_data, batch_size=batch_size, shuffle=True)\n",
        "test_loader = torch.utils.data.DataLoader(test_dataset, batch_size=batch_size, shuffle=True)"
      ],
      "execution_count": 6,
      "outputs": []
    },
    {
      "cell_type": "markdown",
      "metadata": {
        "id": "4nSAM4r-0z3z"
      },
      "source": [
        "Example of data after preprocessing"
      ]
    },
    {
      "cell_type": "code",
      "metadata": {
        "colab": {
          "base_uri": "https://localhost:8080/",
          "height": 300
        },
        "id": "GMBKRV05RAG6",
        "outputId": "ba9b1c54-1664-4cef-a61c-f170a535be3f"
      },
      "source": [
        "images, labels = iter(train_loader).next()\n",
        "img = images[0][0].numpy()\n",
        "print(labels[0])\n",
        "plt.imshow(img)"
      ],
      "execution_count": 7,
      "outputs": [
        {
          "output_type": "stream",
          "name": "stdout",
          "text": [
            "tensor(8)\n"
          ]
        },
        {
          "output_type": "execute_result",
          "data": {
            "text/plain": [
              "<matplotlib.image.AxesImage at 0x7f5a6e159fd0>"
            ]
          },
          "metadata": {},
          "execution_count": 7
        },
        {
          "output_type": "display_data",
          "data": {
            "image/png": "[encoded data removed]",
            "text/plain": [
              "<Figure size 432x288 with 1 Axes>"
            ]
          },
          "metadata": {
            "needs_background": "light"
          }
        }
      ]
    },
    {
      "cell_type": "code",
      "metadata": {
        "id": "Kweb7aG7AA74"
      },
      "source": [
        "# Create folder for out images\n",
        "import os\n",
        "folder_name = 'Images2'\n",
        "os.mkdir(folder_name)"
      ],
      "execution_count": 8,
      "outputs": []
    },
    {
      "cell_type": "code",
      "metadata": {
        "id": "sMBwn257gRlU"
      },
      "source": [
        "model = AutoEncoderClassifier(latent_space=32).to(device)"
      ],
      "execution_count": 9,
      "outputs": []
    },
    {
      "cell_type": "code",
      "metadata": {
        "id": "n_i9jqSMeYO8"
      },
      "source": [
        "criterion = nn.MSELoss()\n",
        "optimizer = optim.Adam(model.parameters(), lr=1e-3)"
      ],
      "execution_count": 10,
      "outputs": []
    },
    {
      "cell_type": "code",
      "metadata": {
        "colab": {
          "base_uri": "https://localhost:8080/",
          "height": 1000
        },
        "id": "2frfZP7Vep2j",
        "outputId": "ff988f10-f761-4ca5-8f71-777a9d525649"
      },
      "source": [
        "N_EPOCHS = 30\n",
        "history={'train_loss': [],'val_loss': []}\n",
        "\n",
        "for epoch in range(N_EPOCHS):\n",
        "    train_loss = train_step_per_epoch(model, train_loader, device, criterion, optimizer)\n",
        "    val_loss = test_step_per_epoch(model, valid_loader, device, criterion, epoch, folder_name, draw_images=True)\n",
        "    print('epoch [{}/{}], \\tTraining Loss:{:.4f} \\tValidation Loss:{:.4f}'.format(epoch, N_EPOCHS, train_loss, val_loss))\n",
        "    history['train_loss'].append(train_loss)\n",
        "    history['val_loss'].append(val_loss)\n"
      ],
      "execution_count": 11,
      "outputs": [
        {
          "output_type": "display_data",
          "data": {
            "image/png": "[encoded data removed]",
            "text/plain": [
              "<Figure size 720x324 with 10 Axes>"
            ]
          },
          "metadata": {
            "needs_background": "light"
          }
        },
        {
          "output_type": "stream",
          "name": "stdout",
          "text": [
            "epoch [0/30], \tTraining Loss:0.0498 \tValidation Loss:0.0339\n",
            "epoch [1/30], \tTraining Loss:0.0299 \tValidation Loss:0.0270\n",
            "epoch [2/30], \tTraining Loss:0.0256 \tValidation Loss:0.0239\n",
            "epoch [3/30], \tTraining Loss:0.0228 \tValidation Loss:0.0217\n",
            "epoch [4/30], \tTraining Loss:0.0209 \tValidation Loss:0.0201\n",
            "epoch [5/30], \tTraining Loss:0.0196 \tValidation Loss:0.0190\n",
            "epoch [6/30], \tTraining Loss:0.0186 \tValidation Loss:0.0181\n",
            "epoch [7/30], \tTraining Loss:0.0177 \tValidation Loss:0.0174\n",
            "epoch [8/30], \tTraining Loss:0.0170 \tValidation Loss:0.0167\n",
            "epoch [9/30], \tTraining Loss:0.0163 \tValidation Loss:0.0160\n"
          ]
        },
        {
          "output_type": "display_data",
          "data": {
            "image/png": "[encoded data removed]",
            "text/plain": [
              "<Figure size 720x324 with 10 Axes>"
            ]
          },
          "metadata": {
            "needs_background": "light"
          }
        },
        {
          "output_type": "stream",
          "name": "stdout",
          "text": [
            "epoch [10/30], \tTraining Loss:0.0158 \tValidation Loss:0.0155\n",
            "epoch [11/30], \tTraining Loss:0.0153 \tValidation Loss:0.0152\n",
            "epoch [12/30], \tTraining Loss:0.0149 \tValidation Loss:0.0148\n",
            "epoch [13/30], \tTraining Loss:0.0145 \tValidation Loss:0.0143\n",
            "epoch [14/30], \tTraining Loss:0.0141 \tValidation Loss:0.0140\n",
            "epoch [15/30], \tTraining Loss:0.0138 \tValidation Loss:0.0137\n",
            "epoch [16/30], \tTraining Loss:0.0135 \tValidation Loss:0.0135\n",
            "epoch [17/30], \tTraining Loss:0.0132 \tValidation Loss:0.0134\n",
            "epoch [18/30], \tTraining Loss:0.0130 \tValidation Loss:0.0131\n",
            "epoch [19/30], \tTraining Loss:0.0127 \tValidation Loss:0.0128\n"
          ]
        },
        {
          "output_type": "display_data",
          "data": {
            "image/png": "[encoded data removed]",
            "text/plain": [
              "<Figure size 720x324 with 10 Axes>"
            ]
          },
          "metadata": {
            "needs_background": "light"
          }
        },
        {
          "output_type": "stream",
          "name": "stdout",
          "text": [
            "epoch [20/30], \tTraining Loss:0.0125 \tValidation Loss:0.0125\n",
            "epoch [21/30], \tTraining Loss:0.0123 \tValidation Loss:0.0123\n",
            "epoch [22/30], \tTraining Loss:0.0121 \tValidation Loss:0.0122\n",
            "epoch [23/30], \tTraining Loss:0.0119 \tValidation Loss:0.0119\n",
            "epoch [24/30], \tTraining Loss:0.0117 \tValidation Loss:0.0118\n",
            "epoch [25/30], \tTraining Loss:0.0115 \tValidation Loss:0.0116\n",
            "epoch [26/30], \tTraining Loss:0.0114 \tValidation Loss:0.0114\n",
            "epoch [27/30], \tTraining Loss:0.0112 \tValidation Loss:0.0113\n",
            "epoch [28/30], \tTraining Loss:0.0111 \tValidation Loss:0.0113\n",
            "epoch [29/30], \tTraining Loss:0.0110 \tValidation Loss:0.0111\n"
          ]
        }
      ]
    },
    {
      "cell_type": "code",
      "metadata": {
        "id": "84yAqbMId9nh"
      },
      "source": [
        "# Save weights of autoencoder\n",
        "torch.save(model, './weights_ae')"
      ],
      "execution_count": 12,
      "outputs": []
    },
    {
      "cell_type": "code",
      "metadata": {
        "id": "MzxMz6_UjuMm"
      },
      "source": [
        "criterion = nn.CrossEntropyLoss()\n",
        "encoder_state = model.encoder.state_dict() # save AE-encoder parameters\n",
        "optimizer = optim.Adam(model.clf.parameters(), lr=1e-3) #Make trick: just optimize our model with classifier parameters"
      ],
      "execution_count": 13,
      "outputs": []
    },
    {
      "cell_type": "code",
      "metadata": {
        "id": "cGzOgR4iOJSL",
        "colab": {
          "base_uri": "https://localhost:8080/"
        },
        "outputId": "0fad61c3-d911-4ae0-f2e3-bf72bfc68f07"
      },
      "source": [
        "N_EPOCHS_CLF = 15\n",
        "history_clf = {'train_loss_clf': [],'val_loss_clf': []}\n",
        "\n",
        "for epoch in range(N_EPOCHS_CLF):\n",
        "    train_loss = train_clf_per_epoch(model, train_loader, device, criterion, optimizer)\n",
        "    val_loss = test_clf_per_epoch(model, valid_loader, device, criterion)\n",
        "    \n",
        "    history_clf['train_loss_clf'].append(train_loss)\n",
        "    history_clf['val_loss_clf'].append(val_loss)\n",
        "    \n",
        "    print('epoch [{}/{}], \\tTraining Loss:{:.4f} \\tValidation Loss:{:.4f}'.format(epoch + 1, N_EPOCHS_CLF, train_loss, val_loss))\n"
      ],
      "execution_count": 14,
      "outputs": [
        {
          "output_type": "stream",
          "name": "stdout",
          "text": [
            "epoch [1/15], \tTraining Loss:0.7772 \tValidation Loss:0.3640\n",
            "epoch [2/15], \tTraining Loss:0.3106 \tValidation Loss:0.2767\n",
            "epoch [3/15], \tTraining Loss:0.2479 \tValidation Loss:0.2360\n",
            "epoch [4/15], \tTraining Loss:0.2112 \tValidation Loss:0.2041\n",
            "epoch [5/15], \tTraining Loss:0.1856 \tValidation Loss:0.1878\n",
            "epoch [6/15], \tTraining Loss:0.1682 \tValidation Loss:0.1734\n",
            "epoch [7/15], \tTraining Loss:0.1540 \tValidation Loss:0.1643\n",
            "epoch [8/15], \tTraining Loss:0.1429 \tValidation Loss:0.1506\n",
            "epoch [9/15], \tTraining Loss:0.1330 \tValidation Loss:0.1447\n",
            "epoch [10/15], \tTraining Loss:0.1252 \tValidation Loss:0.1487\n",
            "epoch [11/15], \tTraining Loss:0.1187 \tValidation Loss:0.1311\n",
            "epoch [12/15], \tTraining Loss:0.1121 \tValidation Loss:0.1308\n",
            "epoch [13/15], \tTraining Loss:0.1080 \tValidation Loss:0.1242\n",
            "epoch [14/15], \tTraining Loss:0.1035 \tValidation Loss:0.1229\n",
            "epoch [15/15], \tTraining Loss:0.1003 \tValidation Loss:0.1178\n"
          ]
        }
      ]
    },
    {
      "cell_type": "code",
      "metadata": {
        "id": "O15e7yAjgqfO"
      },
      "source": [
        "torch.save(model, './weights_classifier')"
      ],
      "execution_count": 16,
      "outputs": []
    },
    {
      "cell_type": "code",
      "metadata": {
        "id": "wXD2dvKor08x"
      },
      "source": [
        "encoder_state2 = model.encoder.state_dict()"
      ],
      "execution_count": 15,
      "outputs": []
    },
    {
      "cell_type": "code",
      "metadata": {
        "colab": {
          "base_uri": "https://localhost:8080/"
        },
        "id": "HfYX3dQKr7T-",
        "outputId": "9ebdde6d-7835-4bf5-e08a-a94e1ee4a09b"
      },
      "source": [
        "# Just check that we used pre-trained encoder))\n",
        "for key in encoder_state:\n",
        "    print(((encoder_state[key] - encoder_state2[key]) **2).sum())"
      ],
      "execution_count": 17,
      "outputs": [
        {
          "output_type": "stream",
          "name": "stdout",
          "text": [
            "tensor(0., device='cuda:0')\n",
            "tensor(0., device='cuda:0')\n",
            "tensor(0., device='cuda:0')\n",
            "tensor(0., device='cuda:0')\n",
            "tensor(0., device='cuda:0')\n",
            "tensor(0., device='cuda:0')\n",
            "tensor(0., device='cuda:0')\n",
            "tensor(0., device='cuda:0')\n"
          ]
        }
      ]
    },
    {
      "cell_type": "code",
      "metadata": {
        "id": "egFvAxKxQTZ3",
        "colab": {
          "base_uri": "https://localhost:8080/"
        },
        "outputId": "46770e9b-7f28-4bd1-a562-05e61420c743"
      },
      "source": [
        "test_loss = []\n",
        "class_correct = list(0. for i in range(10))\n",
        "class_total = list(0. for i in range(10))\n",
        "\n",
        "# calculate and print avg test loss\n",
        "test_loss, class_correct, class_total = check_accuracy_classification(model, test_loader, device,criterion)\n",
        "print('Test Loss: {:.6f}\\n'.format(test_loss))\n",
        "\n",
        "for i in range(10):\n",
        "    if class_total[i] > 0:\n",
        "        print('Test Accuracy of %5s: %2d%% (%2d/%2d)' % (\n",
        "            str(i), 100 * class_correct[i] / class_total[i],\n",
        "            np.sum(class_correct[i]), np.sum(class_total[i])))\n",
        "    else:\n",
        "        print('Test Accuracy of %5s: N/A (no training examples)' % (classes[i]))\n",
        "\n",
        "print('\\nTest Accuracy (Overall): %2d%% (%2d/%2d)' % (\n",
        "    100. * np.sum(class_correct) / np.sum(class_total),\n",
        "    np.sum(class_correct), np.sum(class_total)))"
      ],
      "execution_count": 22,
      "outputs": [
        {
          "output_type": "stream",
          "name": "stdout",
          "text": [
            "Test Loss: 0.102419\n",
            "\n",
            "Test Accuracy of     0: 98% (961/980)\n",
            "Test Accuracy of     1: 99% (1124/1135)\n",
            "Test Accuracy of     2: 98% (1013/1032)\n",
            "Test Accuracy of     3: 96% (979/1010)\n",
            "Test Accuracy of     4: 97% (953/982)\n",
            "Test Accuracy of     5: 95% (849/892)\n",
            "Test Accuracy of     6: 97% (934/958)\n",
            "Test Accuracy of     7: 96% (987/1028)\n",
            "Test Accuracy of     8: 95% (931/974)\n",
            "Test Accuracy of     9: 94% (953/1009)\n",
            "\n",
            "Test Accuracy (Overall): 96% (9684/10000)\n"
          ]
        }
      ]
    },
    {
      "cell_type": "code",
      "metadata": {
        "id": "VVMmdx08hL7T"
      },
      "source": [
        ""
      ],
      "execution_count": null,
      "outputs": []
    }
  ]
}